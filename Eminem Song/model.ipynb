{
 "cells": [
  {
   "cell_type": "code",
   "execution_count": 1,
   "metadata": {},
   "outputs": [],
   "source": [
    "# required libraries\n",
    "import numpy as np\n",
    "import matplotlib.pyplot as plt\n",
    "import tensorflow as tf"
   ]
  },
  {
   "cell_type": "code",
   "execution_count": 2,
   "metadata": {},
   "outputs": [
    {
     "name": "stdout",
     "output_type": "stream",
     "text": [
      "Length of the corpus:  1014\n",
      "First 5 lines:  yeah so i guess this is what it is, huh? think it's obvious we ain't never gonna seeâ€…eyeâ€…to eye but it'sâ€…funny\n"
     ]
    }
   ],
   "source": [
    "# read data\n",
    "data = open('songs.txt').read()\n",
    "corpus = data.lower().split(\"\\n\")\n",
    "print('Length of the corpus: ', len(corpus))\n",
    "print('First 5 lines: ', ' '.join(corpus[:5]))"
   ]
  },
  {
   "cell_type": "code",
   "execution_count": 3,
   "metadata": {},
   "outputs": [],
   "source": [
    "tokenizer = tf.keras.preprocessing.text.Tokenizer()\n",
    "tokenizer.fit_on_texts(corpus)"
   ]
  },
  {
   "cell_type": "code",
   "execution_count": 4,
   "metadata": {},
   "outputs": [
    {
     "name": "stdout",
     "output_type": "stream",
     "text": [
      "2228\n"
     ]
    }
   ],
   "source": [
    "total_words = len(tokenizer.word_index)+1\n",
    "print(total_words)"
   ]
  },
  {
   "cell_type": "code",
   "execution_count": 5,
   "metadata": {},
   "outputs": [],
   "source": [
    "sequences = []\n",
    "\n",
    "for line in corpus:\n",
    "    tokens = tokenizer.texts_to_sequences([line])[0]\n",
    "    for i in range(1, len(tokens)):\n",
    "        n_gram_sequence = tokens[: i+1]\n",
    "        sequences.append(n_gram_sequence)\n",
    "\n",
    "max_length = max([len(x) for x in sequences])\n",
    "sequences = np.array(tf.keras.preprocessing.sequence.pad_sequences(sequences, maxlen = max_length, padding='pre'))\n",
    "\n",
    "labels = sequences[:, -1]\n",
    "xs = sequences[:, :-1]\n",
    "ys = tf.keras.utils.to_categorical(labels, num_classes=total_words)"
   ]
  },
  {
   "cell_type": "code",
   "execution_count": 6,
   "metadata": {},
   "outputs": [],
   "source": [
    "embedding_dim = 100\n",
    "lstm_units = 120\n",
    "learning_rate = 0.001"
   ]
  },
  {
   "cell_type": "code",
   "execution_count": 7,
   "metadata": {},
   "outputs": [],
   "source": [
    "model = tf.keras.Sequential([\n",
    "          tf.keras.layers.Embedding(total_words, embedding_dim, input_length=max_length-1),\n",
    "          tf.keras.layers.Bidirectional(tf.keras.layers.LSTM(lstm_units)),\\\n",
    "          tf.keras.layers.Dense(total_words, activation='softmax')\n",
    "])\n",
    "\n",
    "model.compile(\n",
    "    loss='categorical_crossentropy', \n",
    "    optimizer=tf.keras.optimizers.Adam(learning_rate=learning_rate), \n",
    "    metrics=['accuracy']\n",
    "    )"
   ]
  },
  {
   "cell_type": "code",
   "execution_count": 8,
   "metadata": {},
   "outputs": [
    {
     "name": "stdout",
     "output_type": "stream",
     "text": [
      "Model: \"sequential\"\n",
      "_________________________________________________________________\n",
      " Layer (type)                Output Shape              Param #   \n",
      "=================================================================\n",
      " embedding (Embedding)       (None, 25, 100)           222800    \n",
      "                                                                 \n",
      " bidirectional (Bidirectiona  (None, 240)              212160    \n",
      " l)                                                              \n",
      "                                                                 \n",
      " dense (Dense)               (None, 2228)              536948    \n",
      "                                                                 \n",
      "=================================================================\n",
      "Total params: 971,908\n",
      "Trainable params: 971,908\n",
      "Non-trainable params: 0\n",
      "_________________________________________________________________\n"
     ]
    }
   ],
   "source": [
    "model.summary()"
   ]
  },
  {
   "cell_type": "code",
   "execution_count": 9,
   "metadata": {},
   "outputs": [
    {
     "name": "stdout",
     "output_type": "stream",
     "text": [
      "Epoch 1/50\n",
      "253/253 [==============================] - 11s 31ms/step - loss: 6.7378 - accuracy: 0.0380\n",
      "Epoch 2/50\n",
      "253/253 [==============================] - 8s 32ms/step - loss: 6.2059 - accuracy: 0.0423\n",
      "Epoch 3/50\n",
      "253/253 [==============================] - 8s 33ms/step - loss: 5.9457 - accuracy: 0.0510\n",
      "Epoch 4/50\n",
      "253/253 [==============================] - 8s 33ms/step - loss: 5.6098 - accuracy: 0.0674\n",
      "Epoch 5/50\n",
      "253/253 [==============================] - 8s 33ms/step - loss: 5.2573 - accuracy: 0.0964\n",
      "Epoch 6/50\n",
      "253/253 [==============================] - 8s 33ms/step - loss: 4.9119 - accuracy: 0.1236\n",
      "Epoch 7/50\n",
      "253/253 [==============================] - 9s 34ms/step - loss: 4.5858 - accuracy: 0.1572\n",
      "Epoch 8/50\n",
      "253/253 [==============================] - 9s 35ms/step - loss: 4.2765 - accuracy: 0.1888\n",
      "Epoch 9/50\n",
      "253/253 [==============================] - 9s 34ms/step - loss: 3.9775 - accuracy: 0.2215\n",
      "Epoch 10/50\n",
      "253/253 [==============================] - 9s 34ms/step - loss: 3.6915 - accuracy: 0.2528\n",
      "Epoch 11/50\n",
      "253/253 [==============================] - 8s 33ms/step - loss: 3.4765 - accuracy: 0.2890\n",
      "Epoch 12/50\n",
      "253/253 [==============================] - 8s 33ms/step - loss: 3.1976 - accuracy: 0.3341\n",
      "Epoch 13/50\n",
      "253/253 [==============================] - 8s 33ms/step - loss: 2.9329 - accuracy: 0.3841\n",
      "Epoch 14/50\n",
      "253/253 [==============================] - 9s 34ms/step - loss: 2.7072 - accuracy: 0.4353\n",
      "Epoch 15/50\n",
      "253/253 [==============================] - 9s 34ms/step - loss: 2.4984 - accuracy: 0.4790\n",
      "Epoch 16/50\n",
      "253/253 [==============================] - 8s 33ms/step - loss: 2.3139 - accuracy: 0.5182\n",
      "Epoch 17/50\n",
      "253/253 [==============================] - 8s 33ms/step - loss: 2.1263 - accuracy: 0.5550\n",
      "Epoch 18/50\n",
      "253/253 [==============================] - 8s 33ms/step - loss: 1.9638 - accuracy: 0.5913\n",
      "Epoch 19/50\n",
      "253/253 [==============================] - 8s 34ms/step - loss: 1.8198 - accuracy: 0.6201\n",
      "Epoch 20/50\n",
      "253/253 [==============================] - 8s 33ms/step - loss: 1.6734 - accuracy: 0.6524\n",
      "Epoch 21/50\n",
      "253/253 [==============================] - 8s 33ms/step - loss: 1.5657 - accuracy: 0.6716\n",
      "Epoch 22/50\n",
      "253/253 [==============================] - 8s 33ms/step - loss: 1.4446 - accuracy: 0.6989\n",
      "Epoch 23/50\n",
      "253/253 [==============================] - 8s 34ms/step - loss: 1.3332 - accuracy: 0.7272\n",
      "Epoch 24/50\n",
      "253/253 [==============================] - 8s 33ms/step - loss: 1.2533 - accuracy: 0.7400\n",
      "Epoch 25/50\n",
      "253/253 [==============================] - 8s 33ms/step - loss: 1.1459 - accuracy: 0.7667\n",
      "Epoch 26/50\n",
      "253/253 [==============================] - 8s 33ms/step - loss: 1.0743 - accuracy: 0.7775\n",
      "Epoch 27/50\n",
      "253/253 [==============================] - 9s 34ms/step - loss: 1.0774 - accuracy: 0.7747\n",
      "Epoch 28/50\n",
      "253/253 [==============================] - 9s 34ms/step - loss: 0.9693 - accuracy: 0.7966\n",
      "Epoch 29/50\n",
      "253/253 [==============================] - 8s 33ms/step - loss: 0.8904 - accuracy: 0.8163\n",
      "Epoch 30/50\n",
      "253/253 [==============================] - 8s 33ms/step - loss: 0.8184 - accuracy: 0.8298\n",
      "Epoch 31/50\n",
      "253/253 [==============================] - 9s 35ms/step - loss: 0.7711 - accuracy: 0.8397\n",
      "Epoch 32/50\n",
      "253/253 [==============================] - 9s 35ms/step - loss: 0.7232 - accuracy: 0.8496\n",
      "Epoch 33/50\n",
      "253/253 [==============================] - 9s 35ms/step - loss: 0.6847 - accuracy: 0.8569\n",
      "Epoch 34/50\n",
      "253/253 [==============================] - 9s 34ms/step - loss: 0.6460 - accuracy: 0.8629\n",
      "Epoch 35/50\n",
      "253/253 [==============================] - 9s 34ms/step - loss: 0.6341 - accuracy: 0.8623\n",
      "Epoch 36/50\n",
      "253/253 [==============================] - 9s 34ms/step - loss: 0.5965 - accuracy: 0.8680\n",
      "Epoch 37/50\n",
      "253/253 [==============================] - 9s 34ms/step - loss: 0.5651 - accuracy: 0.8769\n",
      "Epoch 38/50\n",
      "253/253 [==============================] - 9s 34ms/step - loss: 0.5371 - accuracy: 0.8814\n",
      "Epoch 39/50\n",
      "253/253 [==============================] - 9s 34ms/step - loss: 0.5142 - accuracy: 0.8866\n",
      "Epoch 40/50\n",
      "253/253 [==============================] - 9s 34ms/step - loss: 0.4971 - accuracy: 0.8833\n",
      "Epoch 41/50\n",
      "253/253 [==============================] - 9s 34ms/step - loss: 0.4845 - accuracy: 0.8881\n",
      "Epoch 42/50\n",
      "253/253 [==============================] - 9s 34ms/step - loss: 0.4688 - accuracy: 0.8905\n",
      "Epoch 43/50\n",
      "253/253 [==============================] - 9s 35ms/step - loss: 0.4511 - accuracy: 0.8874\n",
      "Epoch 44/50\n",
      "253/253 [==============================] - 9s 34ms/step - loss: 0.4374 - accuracy: 0.8926\n",
      "Epoch 45/50\n",
      "253/253 [==============================] - 9s 34ms/step - loss: 0.4254 - accuracy: 0.8932\n",
      "Epoch 46/50\n",
      "253/253 [==============================] - 9s 34ms/step - loss: 0.4185 - accuracy: 0.8942\n",
      "Epoch 47/50\n",
      "253/253 [==============================] - 9s 34ms/step - loss: 0.4112 - accuracy: 0.8941\n",
      "Epoch 48/50\n",
      "253/253 [==============================] - 9s 35ms/step - loss: 0.4063 - accuracy: 0.8944\n",
      "Epoch 49/50\n",
      "253/253 [==============================] - 9s 35ms/step - loss: 0.3932 - accuracy: 0.8953\n",
      "Epoch 50/50\n",
      "253/253 [==============================] - 9s 35ms/step - loss: 0.3818 - accuracy: 0.8983\n"
     ]
    }
   ],
   "source": [
    "epochs = 50\n",
    "history = model.fit(xs, ys, epochs=epochs)"
   ]
  },
  {
   "cell_type": "code",
   "execution_count": 10,
   "metadata": {},
   "outputs": [],
   "source": [
    "def prediction(seed_text, next_words):\n",
    "    for _ in range(next_words):\n",
    "\n",
    "        token_list = tokenizer.texts_to_sequences([seed_text])[0]\n",
    "        token_list = tf.keras.preprocessing.sequence.pad_sequences([token_list], maxlen=max_length-1, padding='pre')\n",
    "        probabilities = model.predict(token_list)\n",
    "        predicted = np.argmax(probabilities, axis=-1)[0]\n",
    "\n",
    "        if predicted != 0:\n",
    "            output_word = tokenizer.index_word[predicted]\n",
    "            seed_text += \" \" + output_word\n",
    "            \n",
    "    print(seed_text)\n"
   ]
  },
  {
   "cell_type": "code",
   "execution_count": 11,
   "metadata": {},
   "outputs": [
    {
     "data": {
      "image/png": "[encoded data removed]",
      "text/plain": [
       "<Figure size 432x288 with 1 Axes>"
      ]
     },
     "metadata": {
      "needs_background": "light"
     },
     "output_type": "display_data"
    }
   ],
   "source": [
    "def plot_graphs(history, string):\n",
    "  plt.plot(history.history[string])\n",
    "  plt.xlabel(\"Epochs\")\n",
    "  plt.ylabel(string)\n",
    "  plt.show()\n",
    "\n",
    "plot_graphs(history, 'accuracy')"
   ]
  },
  {
   "cell_type": "code",
   "execution_count": 12,
   "metadata": {},
   "outputs": [
    {
     "name": "stdout",
     "output_type": "stream",
     "text": [
      "I am  the complete opposite of these retards who spit these weak bars i'ma leave carnage carnage in some fe texas take of that's funny bro we been movin' slowly look are tryna rolling wiling dirt look at how we have ain't sold your last out i said chill of officers officers it white flags regrets and i ain't never back up all i hate that i hate it and i had a messed up head like a tranq full of tylenol fe texas officers take it and lock it and lock it lock it lock it i boy i had waiting\n"
     ]
    }
   ],
   "source": [
    "seed_text = \"I am \"\n",
    "next_words = 100\n",
    "prediction(seed_text, next_words)"
   ]
  }
 ],
 "metadata": {
  "interpreter": {
   "hash": "e9cad8197b253e9e83aa0aac2df06f3710d9850531c28366ad5e4384cb665b8c"
  },
  "kernelspec": {
   "display_name": "Python 3.10.4 64-bit",
   "language": "python",
   "name": "python3"
  },
  "language_info": {
   "codemirror_mode": {
    "name": "ipython",
    "version": 3
   },
   "file_extension": ".py",
   "mimetype": "text/x-python",
   "name": "python",
   "nbconvert_exporter": "python",
   "pygments_lexer": "ipython3",
   "version": "3.10.4"
  },
  "orig_nbformat": 4
 },
 "nbformat": 4,
 "nbformat_minor": 2
}
